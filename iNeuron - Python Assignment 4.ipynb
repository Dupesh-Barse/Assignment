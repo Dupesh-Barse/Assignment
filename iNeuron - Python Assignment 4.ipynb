{
 "cells": [
  {
   "cell_type": "markdown",
   "id": "8b1604d1",
   "metadata": {},
   "source": [
    "### Q.1.1) Write a Python Program(with class concepts) to find the area of the triangle using the below formula.\n",
    "    * => area = (s*(s-a)*(s-b)*(s-c))**0.5"
   ]
  },
  {
   "cell_type": "code",
   "execution_count": 35,
   "id": "8652b40e",
   "metadata": {},
   "outputs": [],
   "source": [
    "class sides:\n",
    "    def __init__(self,a,b,c):\n",
    "        self.a = float(a)\n",
    "        self.b = float(b)\n",
    "        self.c = float(c)\n",
    "        self.area = 0\n",
    "\n",
    "class triangle(sides):\n",
    "    def __init__(self,a,b,c):\n",
    "        sides.__init__(self,a,b,c)\n",
    "    \n",
    "    def get_area(self):\n",
    "        s=(self.a + self.b + self.c) / 2\n",
    "        self.area = float((s*(s-self.a)*(s-self.b)*(s-self.c)))**0.5\n",
    "        return self.area    "
   ]
  },
  {
   "cell_type": "code",
   "execution_count": 37,
   "id": "add00e68",
   "metadata": {},
   "outputs": [
    {
     "name": "stdout",
     "output_type": "stream",
     "text": [
      "Side a = 5\n",
      "Side b = 4\n",
      "Side c = 3\n",
      "Area of Triangle is = 6.0\n"
     ]
    }
   ],
   "source": [
    "a,b,c =input(\"Side a = \"),input(\"Side b = \"),input(\"Side c = \")\n",
    "t= triangle(a,b,c)\n",
    "\n",
    "print(\"Area of Triangle is =\",t.get_area())"
   ]
  },
  {
   "cell_type": "markdown",
   "id": "528f484d",
   "metadata": {},
   "source": [
    "\n",
    "### Q.1.2) Write a function filter_long_words() that takes a list of words and an integer n and returns list of words that are longer than n."
   ]
  },
  {
   "cell_type": "code",
   "execution_count": 97,
   "id": "b2225967",
   "metadata": {},
   "outputs": [],
   "source": [
    "def filter_long_words(word_list , integer):\n",
    "    \"\"\"This function will return words with having lenght greater than integer\"\"\"\n",
    "    words = word_list.split()\n",
    "    return [i for i in words if len(i) > integer] "
   ]
  },
  {
   "cell_type": "code",
   "execution_count": 99,
   "id": "13fd247e",
   "metadata": {},
   "outputs": [
    {
     "name": "stdout",
     "output_type": "stream",
     "text": [
      "Please enter the list of words by giving space or enter sentence : 1 22 333 4444 55555 666666 777777\n",
      "Words with having lenght > 5 are :  ['666666', '777777']\n"
     ]
    }
   ],
   "source": [
    "words = input(\"Please enter the list of words by giving space or enter sentence : \")\n",
    "num = 5\n",
    "\n",
    "print(\"Words with having lenght > {} are : \".format(num), filter_long_words(words,num))"
   ]
  },
  {
   "cell_type": "markdown",
   "id": "42e22320",
   "metadata": {},
   "source": [
    "### Q.2.1 Write a Python program using function concept that maps list of words into a list of integers representing the lengths of the corresponding words.\n",
    "Hint: If a list [ ab,cde,erty] is passed on to the python function output should come as [2,3,4]\n",
    "Here 2,3 and 4 are the lengths of the words in the list."
   ]
  },
  {
   "cell_type": "code",
   "execution_count": 109,
   "id": "9932f9b1",
   "metadata": {},
   "outputs": [
    {
     "data": {
      "text/plain": [
       "[2, 3, 4]"
      ]
     },
     "execution_count": 109,
     "metadata": {},
     "output_type": "execute_result"
    }
   ],
   "source": [
    "def len_of_words(words_list):\n",
    "    \"\"\"This function will return lenght of words proided in list \"\"\"\n",
    "    return [len(i) for i in words_list ]\n",
    "\n",
    "len_of_words(['ab','cde','erty'])"
   ]
  },
  {
   "cell_type": "markdown",
   "id": "30dc60d7",
   "metadata": {},
   "source": [
    "### Q.2.2) Write a Python function which takes a character (i.e. a string of length 1) and returns True if it is a vowel, False otherwise."
   ]
  },
  {
   "cell_type": "code",
   "execution_count": 130,
   "id": "9422c25b",
   "metadata": {},
   "outputs": [],
   "source": [
    "def check_vowel(character):\n",
    "    \"\"\"This Funciton will check provided alphabet is vowel or not\"\"\"\n",
    "    char = str(character)\n",
    "    vowel=['a','e','i','o','u']\n",
    "    if char in vowel:\n",
    "        print(\"TRUE \\nCharater '{}' is vowel\".format(character))\n",
    "    else:\n",
    "        print(\"FALSE \\nCharater '{}' is not vowel\".format(character))"
   ]
  },
  {
   "cell_type": "code",
   "execution_count": 138,
   "id": "2a8a0d1e",
   "metadata": {},
   "outputs": [
    {
     "name": "stdout",
     "output_type": "stream",
     "text": [
      "Enter Any character :i\n",
      "TRUE \n",
      "Charater 'i' is vowel\n"
     ]
    }
   ],
   "source": [
    "c=input(\"Enter Any character :\")\n",
    "check_vowel(c)"
   ]
  },
  {
   "cell_type": "code",
   "execution_count": null,
   "id": "cd496d7f",
   "metadata": {},
   "outputs": [],
   "source": []
  }
 ],
 "metadata": {
  "kernelspec": {
   "display_name": "Python 3",
   "language": "python",
   "name": "python3"
  },
  "language_info": {
   "codemirror_mode": {
    "name": "ipython",
    "version": 3
   },
   "file_extension": ".py",
   "mimetype": "text/x-python",
   "name": "python",
   "nbconvert_exporter": "python",
   "pygments_lexer": "ipython3",
   "version": "3.8.8"
  }
 },
 "nbformat": 4,
 "nbformat_minor": 5
}
