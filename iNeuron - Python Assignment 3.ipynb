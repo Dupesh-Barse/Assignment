{
 "cells": [
  {
   "cell_type": "markdown",
   "id": "b03e0eaa",
   "metadata": {},
   "source": [
    "### Q. 1.1 )  Write a Python Program to implement your own myreduce() function which works exactly like Python's built-in function reduce()"
   ]
  },
  {
   "cell_type": "code",
   "execution_count": 40,
   "id": "992b7663",
   "metadata": {},
   "outputs": [
    {
     "name": "stdout",
     "output_type": "stream",
     "text": [
      "Multipication: 3628800\n",
      "Addition: 55\n"
     ]
    }
   ],
   "source": [
    "# Operation of in-built function reduce():\n",
    "from functools import reduce\n",
    "\n",
    "l=[1,2,3,4,5,6,7,8,9,10]\n",
    "print(\"Multipication:\",reduce(lambda a,b: a*b , l))\n",
    "print(\"Addition:\",reduce(lambda a,b: a + b , l))"
   ]
  },
  {
   "cell_type": "code",
   "execution_count": 41,
   "id": "01bd5e52",
   "metadata": {},
   "outputs": [],
   "source": [
    "# User-Define function myreduce():\n",
    "\n",
    "def myreduce(insert_function,num_list):\n",
    "    \"\"\"This function will operate your function on num_list\"\"\"\n",
    "    output = num_list[0]\n",
    "    for i in num_list[1:] :\n",
    "        output = insert_function(output,i)\n",
    "    print(\"Input: \",num_list)\n",
    "    print(\"Output:\",output)\n",
    "    return output\n",
    "    \n"
   ]
  },
  {
   "cell_type": "code",
   "execution_count": 42,
   "id": "20b45140",
   "metadata": {},
   "outputs": [
    {
     "name": "stdout",
     "output_type": "stream",
     "text": [
      "Input:  [1, 2, 3, 4, 5, 6, 7, 8, 9, 10]\n",
      "Output: 3628800\n"
     ]
    },
    {
     "data": {
      "text/plain": [
       "3628800"
      ]
     },
     "execution_count": 42,
     "metadata": {},
     "output_type": "execute_result"
    }
   ],
   "source": [
    "myreduce(lambda a,b:a*b,l)"
   ]
  },
  {
   "cell_type": "code",
   "execution_count": 43,
   "id": "a1a6f8ac",
   "metadata": {},
   "outputs": [
    {
     "name": "stdout",
     "output_type": "stream",
     "text": [
      "Input:  [1, 2, 3, 4, 5, 6, 7, 8, 9, 10]\n",
      "Output: 55\n"
     ]
    },
    {
     "data": {
      "text/plain": [
       "55"
      ]
     },
     "execution_count": 43,
     "metadata": {},
     "output_type": "execute_result"
    }
   ],
   "source": [
    "myreduce(lambda a,b:a+b ,l)"
   ]
  },
  {
   "cell_type": "markdown",
   "id": "a4aca5fe",
   "metadata": {},
   "source": [
    "### 1.2) Write a Python program to implement your own myfilter() function which works exactly like Python's built-in function filter()"
   ]
  },
  {
   "cell_type": "code",
   "execution_count": 73,
   "id": "50b5fd59",
   "metadata": {},
   "outputs": [
    {
     "name": "stdout",
     "output_type": "stream",
     "text": [
      "Even: [0, 2, 4, 6, 8, 10, 12, 14, 16, 18, 20, 22, 24, 26, 28, 30, 32, 34, 36, 38, 40, 42, 44, 46, 48]  \n",
      " \n",
      "Number greater than 40 [41, 42, 43, 44, 45, 46, 47, 48, 49]\n"
     ]
    }
   ],
   "source": [
    "# By using in-built filter function:\n",
    "#l=[1,2,3,4,5,6,7,8,9,10,11,12,13,14,15]\n",
    "l=range(0,50)\n",
    "print(\"Even:\",list(filter(lambda a: a%2==0,l)),\" \\n \")\n",
    "\n",
    "print(\"Number greater than 40\",list(filter(lambda a: a>40,l)))"
   ]
  },
  {
   "cell_type": "code",
   "execution_count": 74,
   "id": "5c22652e",
   "metadata": {},
   "outputs": [],
   "source": [
    "def myfilter(any_funct,lst):\n",
    "    \"\"\"This Function will filter lst according to your function i.e any_funct\"\"\"\n",
    "    result=[]\n",
    "    for i in lst:\n",
    "        if(any_funct(i)):\n",
    "            result.append(i)\n",
    "    \n",
    "    return result"
   ]
  },
  {
   "cell_type": "code",
   "execution_count": 77,
   "id": "660fb12d",
   "metadata": {},
   "outputs": [
    {
     "name": "stdout",
     "output_type": "stream",
     "text": [
      "Even: [0, 2, 4, 6, 8, 10, 12, 14, 16, 18, 20, 22, 24, 26, 28, 30, 32, 34, 36, 38, 40, 42, 44, 46, 48]\n"
     ]
    }
   ],
   "source": [
    "print(\"Even:\",myfilter(lambda a: a%2==0,l))"
   ]
  },
  {
   "cell_type": "code",
   "execution_count": 78,
   "id": "2961364f",
   "metadata": {},
   "outputs": [
    {
     "data": {
      "text/plain": [
       "[41, 42, 43, 44, 45, 46, 47, 48, 49]"
      ]
     },
     "execution_count": 78,
     "metadata": {},
     "output_type": "execute_result"
    }
   ],
   "source": [
    "myfilter(lambda a:a>40,l)\n"
   ]
  },
  {
   "cell_type": "markdown",
   "id": "d2c4bc12",
   "metadata": {},
   "source": [
    "### Q. 2. Implement List comprehensions to produce the following lists.Write List comprehensions to produce the following Lists\n",
    "\n",
    "    * ['A', 'C', 'A', 'D', 'G', 'I', ’L’, ‘ D’]\n",
    "    * ['x', 'xx', 'xxx', 'xxxx', 'y', 'yy', 'yyy', 'yyyy', 'z', 'zz', 'zzz', 'zzzz']\n",
    "    * ['x', 'y', 'z', 'xx', 'yy', 'zz', 'xxx', 'yyy', 'zzz', 'xxxx', 'yyyy', 'zzzz']\n",
    "    * [[2], [3], [4], [3], [4], [5], [4], [5], [6]] \n",
    "    * [[2, 3, 4, 5], [3, 4, 5, 6],[4, 5, 6, 7], [5, 6, 7, 8]]\n",
    "    * [(1, 1), (2, 1), (3, 1), (1, 2), (2, 2), (3, 2), (1, 3), (2, 3), (3, 3)]"
   ]
  },
  {
   "cell_type": "code",
   "execution_count": 82,
   "id": "c6d05187",
   "metadata": {},
   "outputs": [
    {
     "data": {
      "text/plain": [
       "['A', 'C', 'A', 'D', 'G', 'I', 'L', 'D']"
      ]
     },
     "execution_count": 82,
     "metadata": {},
     "output_type": "execute_result"
    }
   ],
   "source": [
    "word1=\"acadgild\"\n",
    "[ i.upper() for i in list(word1) ]"
   ]
  },
  {
   "cell_type": "code",
   "execution_count": 89,
   "id": "a63ce152",
   "metadata": {},
   "outputs": [
    {
     "data": {
      "text/plain": [
       "['x', 'xx', 'xxx', 'xxxx', 'y', 'yy', 'yyy', 'yyyy', 'z', 'zz', 'zzz', 'zzzz']"
      ]
     },
     "execution_count": 89,
     "metadata": {},
     "output_type": "execute_result"
    }
   ],
   "source": [
    "word2='xyz'\n",
    "[letter*rep  for letter in list(word2)\n",
    "             for rep in range(1,5)     ]"
   ]
  },
  {
   "cell_type": "code",
   "execution_count": 90,
   "id": "b6d4aa6c",
   "metadata": {},
   "outputs": [
    {
     "data": {
      "text/plain": [
       "['x', 'y', 'z', 'xx', 'yy', 'zz', 'xxx', 'yyy', 'zzz', 'xxxx', 'yyyy', 'zzzz']"
      ]
     },
     "execution_count": 90,
     "metadata": {},
     "output_type": "execute_result"
    }
   ],
   "source": [
    "word3=\"xyz\"\n",
    "[letter*rep for rep in range(1,5)   for letter in list(word2)    ]"
   ]
  },
  {
   "cell_type": "code",
   "execution_count": 122,
   "id": "53ff9cb7",
   "metadata": {},
   "outputs": [
    {
     "data": {
      "text/plain": [
       "[[2], [3], [4], [3], [4], [5], [4], [5], [6]]"
      ]
     },
     "execution_count": 122,
     "metadata": {},
     "output_type": "execute_result"
    }
   ],
   "source": [
    "num4=[2,3,4]\n",
    "[[i+rep] for i in num4 for rep in range(0,3) ]\n"
   ]
  },
  {
   "cell_type": "code",
   "execution_count": 117,
   "id": "44647bd1",
   "metadata": {},
   "outputs": [
    {
     "data": {
      "text/plain": [
       "[[2, 3, 4, 5], [3, 4, 5, 6], [4, 5, 6, 7], [5, 6, 7, 8]]"
      ]
     },
     "execution_count": 117,
     "metadata": {},
     "output_type": "execute_result"
    }
   ],
   "source": [
    "num5=[2,3,4,5]\n",
    "[  [i+rep for rep in range(0,4)]\n",
    "           for i in num5     ]\n"
   ]
  },
  {
   "cell_type": "code",
   "execution_count": 123,
   "id": "d25cd721",
   "metadata": {},
   "outputs": [
    {
     "data": {
      "text/plain": [
       "[(1, 1), (2, 1), (3, 1), (1, 2), (2, 2), (3, 2), (1, 3), (2, 3), (3, 3)]"
      ]
     },
     "execution_count": 123,
     "metadata": {},
     "output_type": "execute_result"
    }
   ],
   "source": [
    "num6=[1,2,3]\n",
    "[(b,a) for a in num6 for b in num6]"
   ]
  },
  {
   "cell_type": "code",
   "execution_count": null,
   "id": "bff64301",
   "metadata": {},
   "outputs": [],
   "source": []
  }
 ],
 "metadata": {
  "kernelspec": {
   "display_name": "Python 3",
   "language": "python",
   "name": "python3"
  },
  "language_info": {
   "codemirror_mode": {
    "name": "ipython",
    "version": 3
   },
   "file_extension": ".py",
   "mimetype": "text/x-python",
   "name": "python",
   "nbconvert_exporter": "python",
   "pygments_lexer": "ipython3",
   "version": "3.8.8"
  }
 },
 "nbformat": 4,
 "nbformat_minor": 5
}
