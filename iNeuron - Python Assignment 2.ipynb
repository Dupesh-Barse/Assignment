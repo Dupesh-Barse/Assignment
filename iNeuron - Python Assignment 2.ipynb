{
 "cells": [
  {
   "cell_type": "code",
   "execution_count": 23,
   "id": "39f660f9",
   "metadata": {},
   "outputs": [
    {
     "name": "stdout",
     "output_type": "stream",
     "text": [
      "* \n",
      "* * \n",
      "* * * \n",
      "* * * * \n",
      "* * * * * \n",
      "* * * * \n",
      "* * * \n",
      "* * \n",
      "* \n"
     ]
    }
   ],
   "source": [
    "#Q.1 Create the below pattern using nested for loop in Python.\n",
    "    # * \n",
    "    # * *\n",
    "    # * * *\n",
    "    # * * * *\n",
    "    # * * * * *\n",
    "    # * * * *\n",
    "    # * * *\n",
    "    # * *\n",
    "    # *\n",
    "\n",
    "n=5\n",
    "for i in range(0,n):\n",
    "    print(\"* \" *(i+1))\n",
    "for j in range(n-1,0,-1):\n",
    "    print(\"* \"*(j))\n",
    "    \n",
    "    \n",
    "    "
   ]
  },
  {
   "cell_type": "code",
   "execution_count": 28,
   "id": "eb1f4cbe",
   "metadata": {},
   "outputs": [
    {
     "name": "stdout",
     "output_type": "stream",
     "text": [
      "Enter any word:-ineuron\n",
      "norueni\n"
     ]
    }
   ],
   "source": [
    "#Q.2)Write a Python program to reverse a word after accepting the input from the user.\n",
    "# enter:iNeuron and output:norueNi\n",
    "i=input(\"Enter any word:-\")\n",
    "print(i[::-1])"
   ]
  },
  {
   "cell_type": "code",
   "execution_count": null,
   "id": "d4ba5288",
   "metadata": {},
   "outputs": [],
   "source": []
  }
 ],
 "metadata": {
  "kernelspec": {
   "display_name": "Python 3",
   "language": "python",
   "name": "python3"
  },
  "language_info": {
   "codemirror_mode": {
    "name": "ipython",
    "version": 3
   },
   "file_extension": ".py",
   "mimetype": "text/x-python",
   "name": "python",
   "nbconvert_exporter": "python",
   "pygments_lexer": "ipython3",
   "version": "3.8.8"
  }
 },
 "nbformat": 4,
 "nbformat_minor": 5
}
